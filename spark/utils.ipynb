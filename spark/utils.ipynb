{
 "cells": [
  {
   "cell_type": "code",
   "execution_count": 2,
   "metadata": {},
   "outputs": [],
   "source": [
    "# pip install --upgrade spark_ai_python"
   ]
  },
  {
   "cell_type": "code",
   "execution_count": 3,
   "metadata": {},
   "outputs": [],
   "source": [
    "from sparkai.llm.llm import ChatSparkLLM, ChunkPrintHandler\n",
    "from sparkai.core.messages import ChatMessage"
   ]
  },
  {
   "cell_type": "code",
   "execution_count": 4,
   "metadata": {},
   "outputs": [],
   "source": [
    "# pip install dotenv"
   ]
  },
  {
   "cell_type": "code",
   "execution_count": 5,
   "metadata": {},
   "outputs": [],
   "source": [
    "import  os\n",
    "from dotenv import load_dotenv, find_dotenv\n",
    "_ = load_dotenv(find_dotenv())"
   ]
  },
  {
   "cell_type": "code",
   "execution_count": 6,
   "metadata": {},
   "outputs": [],
   "source": [
    "# print(os.environ[\"SPARK_API_SECRET\"])"
   ]
  },
  {
   "cell_type": "code",
   "execution_count": 7,
   "metadata": {},
   "outputs": [],
   "source": [
    "# !pip install django.utils.formats"
   ]
  },
  {
   "cell_type": "code",
   "execution_count": 8,
   "metadata": {},
   "outputs": [],
   "source": [
    "from datetime import datetime\n",
    "from time import mktime\n",
    "from wsgiref.handlers import format_date_time\n",
    "import zoneinfo\n",
    "import hmac\n",
    "import hashlib\n",
    "import base64\n",
    "from urllib.parse import urlencode\n",
    "from urllib.parse import urlparse\n",
    "\n",
    "# 获取当前时间\n",
    "cur_time = datetime.now()\n",
    "\n",
    "# 设置时区为上海（CST，UTC+8）\n",
    "shanghai_tz = zoneinfo.ZoneInfo(\"Asia/Shanghai\")\n",
    "\n",
    "# 将当前时间转换为上海时区\n",
    "localized_time = cur_time.replace(tzinfo=shanghai_tz)\n",
    "\n",
    "# 转换为时间戳\n",
    "timestamp = mktime(localized_time.timetuple())\n",
    "\n",
    "# 格式化时间戳\n",
    "date = format_date_time(timestamp)\n",
    "\n",
    "tmp = \"host: \" + \"spark-api.xf-yun.com\" + \"\\n\"\n",
    "tmp += \"date: \" + date + \"\\n\"\n",
    "tmp += \"GET \" + \"/v4.0/chat\" + \" HTTP/1.1\"\n",
    "tmp_sha = hmac.new(os.environ[\"SPARK_API_SECRET\"].encode('utf-8'), tmp.encode('utf-8'), digestmod=hashlib.sha256).digest()\n",
    "signature = base64.b64encode(tmp_sha).decode(encoding='utf-8')\n",
    "authorization_origin = f\"api_key='{os.environ[\"SPARK_API_KEY\"]}', algorithm='hmac-sha256', headers='host date request-line', signature='{signature}'\"\n",
    "authorization = base64.b64encode(authorization_origin.encode('utf-8')).decode(encoding='utf-8')\n",
    "v = {\n",
    "\t\t\"authorization\": authorization, # 上方鉴权生成的authorization\n",
    "        \"date\": date,  # 步骤1生成的date\n",
    "    \t\"host\": \"wss://spark-api.xf-yun.com\" # 请求的主机名，根据具体接口替换\n",
    "}\n",
    "url = \"wss://spark-api.xf-yun.com/{}/chat?\" + urlencode(v)"
   ]
  },
  {
   "cell_type": "code",
   "execution_count": 9,
   "metadata": {},
   "outputs": [],
   "source": [
    "# print(urlparse('wss://spark-api.xf-yun.com/v4.0/chat').path)"
   ]
  },
  {
   "cell_type": "code",
   "execution_count": 10,
   "metadata": {},
   "outputs": [],
   "source": [
    "# 定义spark Spark4.0 Ultra SDK\n",
    "def gen_spark_params(model):\n",
    "    '''\n",
    "    构造星火大模型参数\n",
    "    '''\n",
    "    model_params_dict = {\n",
    "        # v1.5 版本\n",
    "        \"v1.5\": {\n",
    "            \"domain\": \"general\", # 用于配置大模型版本\n",
    "            \"spark_url\": url.format(\"v1.1\") # 云端环境的服务地址\n",
    "        },\n",
    "        # v2.0 版本\n",
    "        \"v2.0\": {\n",
    "            \"domain\": \"generalv2\", # 用于配置大模型版本\n",
    "            \"spark_url\": url.format(\"v2.1\") # 云端环境的服务地址\n",
    "        },\n",
    "        # v3.0 版本\n",
    "        \"v3.0\": {\n",
    "            \"domain\": \"generalv3\", # 用于配置大模型版本\n",
    "            \"spark_url\": url.format(\"v3.1\") # 云端环境的服务地址\n",
    "        },\n",
    "        # v3.5 版本\n",
    "        \"v3.5\": {\n",
    "            \"domain\": \"generalv3.5\", # 用于配置大模型版本\n",
    "            \"spark_url\": url.format(\"v3.5\") # 云端环境的服务地址\n",
    "        },\n",
    "        # v4.0 版本\n",
    "        \"v4.0\": {\n",
    "            \"domain\": \"4.0Ultra\", # 用于配置大模型版本\n",
    "            \"spark_url\": url.format(\"v4.0\") # 云端环境的服务地址\n",
    "        }\n",
    "    }\n",
    "    return model_params_dict[model]"
   ]
  },
  {
   "cell_type": "code",
   "execution_count": 11,
   "metadata": {},
   "outputs": [],
   "source": [
    "\n",
    "\n",
    "def get_completion(prompt, model='v4.0', temperature=0.1):\n",
    "   '''\n",
    "   获取星火大模型的调用结果\n",
    "\n",
    "   请求参数：\n",
    "        prompt：对应提示词\n",
    "        model：调用的模型，默认为v4.0，也可以根据实际需求选择合适的模型\n",
    "        temperature：模型输出的温湿度系数，\n",
    "   ''' \n",
    "   spark = ChatSparkLLM(\n",
    "        spark_api_url=gen_spark_params(model)[\"spark_url\"],\n",
    "        spark_app_id=os.environ[\"SPARK_APPID\"],\n",
    "        spark_api_key=os.environ[\"SPARK_API_KEY\"],\n",
    "        spark_api_secret=os.environ[\"SPARK_API_SECRET\"],\n",
    "        spark_llm_domain=gen_spark_params(model)[\"domain\"],\n",
    "        streaming=False,\n",
    "    )\n",
    "   messages = [ChatMessage(\n",
    "        role=\"user\",\n",
    "        content=prompt\n",
    "    )]\n",
    "   handler = ChunkPrintHandler()\n",
    "   response = spark.generate([messages], callbacks=[handler])\n",
    "   return response"
   ]
  },
  {
   "cell_type": "code",
   "execution_count": 12,
   "metadata": {},
   "outputs": [
    {
     "data": {
      "text/plain": [
       "LLMResult(generations=[[ChatGeneration(text='《春光》\\n柳绿花红映日辉，莺歌燕舞闹芳菲。\\n清风拂面心神爽，满目春光尽意归。\\n\\n注释：翠绿的柳树和盛开的鲜花在阳光下交相辉映，黄莺在歌唱，燕子在飞舞，它们都在热闹地迎接这芬芳美丽的春天。轻柔的春风拂过脸庞，让人感到心情舒畅，精神振奋。放眼望去，到处都是春天的美景，让人心满意足地沉醉其中。', message=AIMessage(content='《春光》\\n柳绿花红映日辉，莺歌燕舞闹芳菲。\\n清风拂面心神爽，满目春光尽意归。\\n\\n注释：翠绿的柳树和盛开的鲜花在阳光下交相辉映，黄莺在歌唱，燕子在飞舞，它们都在热闹地迎接这芬芳美丽的春天。轻柔的春风拂过脸庞，让人感到心情舒畅，精神振奋。放眼望去，到处都是春天的美景，让人心满意足地沉醉其中。'))]], llm_output={'token_usage': {'question_tokens': 16, 'prompt_tokens': 16, 'completion_tokens': 106, 'total_tokens': 122}}, run=[RunInfo(run_id=UUID('86a651bb-94fb-40ff-ba13-ef63611c1d73'))])"
      ]
     },
     "execution_count": 12,
     "metadata": {},
     "output_type": "execute_result"
    }
   ],
   "source": [
    "get_completion(\"今天天气很不错，帮我写一首诗，诗中需要包含当前季节的相关元素\")"
   ]
  },
  {
   "cell_type": "code",
   "execution_count": null,
   "metadata": {},
   "outputs": [],
   "source": []
  }
 ],
 "metadata": {
  "kernelspec": {
   "display_name": "base",
   "language": "python",
   "name": "python3"
  },
  "language_info": {
   "codemirror_mode": {
    "name": "ipython",
    "version": 3
   },
   "file_extension": ".py",
   "mimetype": "text/x-python",
   "name": "python",
   "nbconvert_exporter": "python",
   "pygments_lexer": "ipython3",
   "version": "3.12.2"
  }
 },
 "nbformat": 4,
 "nbformat_minor": 2
}
