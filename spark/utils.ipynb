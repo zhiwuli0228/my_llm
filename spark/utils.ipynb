{
 "cells": [
  {
   "cell_type": "code",
   "execution_count": null,
   "metadata": {},
   "outputs": [],
   "source": [
    "# pip install --upgrade spark_ai_python"
   ]
  },
  {
   "cell_type": "code",
   "execution_count": 10,
   "metadata": {},
   "outputs": [],
   "source": [
    "from sparkai.llm.llm import ChatSparkLLM, ChunkPrintHandler\n",
    "from sparkai.core.messages import ChatMessage"
   ]
  },
  {
   "cell_type": "code",
   "execution_count": null,
   "metadata": {},
   "outputs": [],
   "source": [
    "# pip install dotenv"
   ]
  },
  {
   "cell_type": "code",
   "execution_count": 1,
   "metadata": {},
   "outputs": [],
   "source": [
    "import  os\n",
    "from dotenv import load_dotenv, find_dotenv\n",
    "_ = load_dotenv(find_dotenv())"
   ]
  },
  {
   "cell_type": "code",
   "execution_count": null,
   "metadata": {},
   "outputs": [],
   "source": [
    "# print(os.environ[\"SPARK_API_SECRET\"])"
   ]
  },
  {
   "cell_type": "code",
   "execution_count": null,
   "metadata": {},
   "outputs": [],
   "source": [
    "# !pip install django.utils.formats"
   ]
  },
  {
   "cell_type": "code",
   "execution_count": 3,
   "metadata": {},
   "outputs": [],
   "source": [
    "from datetime import datetime\n",
    "from time import mktime\n",
    "from wsgiref.handlers import format_date_time\n",
    "import zoneinfo\n",
    "import hmac\n",
    "import hashlib\n",
    "import base64\n",
    "from urllib.parse import urlencode\n",
    "from urllib.parse import urlparse\n",
    "\n",
    "# 获取当前时间\n",
    "cur_time = datetime.now()\n",
    "\n",
    "# 设置时区为上海（CST，UTC+8）\n",
    "shanghai_tz = zoneinfo.ZoneInfo(\"Asia/Shanghai\")\n",
    "\n",
    "# 将当前时间转换为上海时区\n",
    "localized_time = cur_time.replace(tzinfo=shanghai_tz)\n",
    "\n",
    "# 转换为时间戳\n",
    "timestamp = mktime(localized_time.timetuple())\n",
    "\n",
    "# 格式化时间戳\n",
    "date = format_date_time(timestamp)\n",
    "\n",
    "tmp = \"host: \" + \"spark-api.xf-yun.com\" + \"\\n\"\n",
    "tmp += \"date: \" + date + \"\\n\"\n",
    "tmp += \"GET \" + \"/v4.0/chat\" + \" HTTP/1.1\"\n",
    "tmp_sha = hmac.new(os.environ[\"SPARK_API_SECRET\"].encode('utf-8'), tmp.encode('utf-8'), digestmod=hashlib.sha256).digest()\n",
    "signature = base64.b64encode(tmp_sha).decode(encoding='utf-8')\n",
    "authorization_origin = f\"api_key='{os.environ[\"SPARK_API_KEY\"]}', algorithm='hmac-sha256', headers='host date request-line', signature='{signature}'\"\n",
    "authorization = base64.b64encode(authorization_origin.encode('utf-8')).decode(encoding='utf-8')\n",
    "v = {\n",
    "\t\t\"authorization\": authorization, # 上方鉴权生成的authorization\n",
    "        \"date\": date,  # 步骤1生成的date\n",
    "    \t\"host\": \"wss://spark-api.xf-yun.com\" # 请求的主机名，根据具体接口替换\n",
    "}\n",
    "url = \"wss://spark-api.xf-yun.com/{}/chat?\" + urlencode(v)"
   ]
  },
  {
   "cell_type": "code",
   "execution_count": 4,
   "metadata": {},
   "outputs": [
    {
     "name": "stdout",
     "output_type": "stream",
     "text": [
      "/v4.0/chat\n"
     ]
    }
   ],
   "source": [
    "# print(urlparse('wss://spark-api.xf-yun.com/v4.0/chat').path)"
   ]
  },
  {
   "cell_type": "code",
   "execution_count": 8,
   "metadata": {},
   "outputs": [],
   "source": [
    "# 定义spark Spark4.0 Ultra SDK\n",
    "def gen_spark_params(model):\n",
    "    '''\n",
    "    构造星火大模型参数\n",
    "    '''\n",
    "    model_params_dict = {\n",
    "        # v1.5 版本\n",
    "        \"v1.5\": {\n",
    "            \"domain\": \"general\", # 用于配置大模型版本\n",
    "            \"spark_url\": url.format(\"v1.1\") # 云端环境的服务地址\n",
    "        },\n",
    "        # v2.0 版本\n",
    "        \"v2.0\": {\n",
    "            \"domain\": \"generalv2\", # 用于配置大模型版本\n",
    "            \"spark_url\": url.format(\"v2.1\") # 云端环境的服务地址\n",
    "        },\n",
    "        # v3.0 版本\n",
    "        \"v3.0\": {\n",
    "            \"domain\": \"generalv3\", # 用于配置大模型版本\n",
    "            \"spark_url\": url.format(\"v3.1\") # 云端环境的服务地址\n",
    "        },\n",
    "        # v3.5 版本\n",
    "        \"v3.5\": {\n",
    "            \"domain\": \"generalv3.5\", # 用于配置大模型版本\n",
    "            \"spark_url\": url.format(\"v3.5\") # 云端环境的服务地址\n",
    "        },\n",
    "        # v4.0 版本\n",
    "        \"v4.0\": {\n",
    "            \"domain\": \"4.0Ultra\", # 用于配置大模型版本\n",
    "            \"spark_url\": url.format(\"v4.0\") # 云端环境的服务地址\n",
    "        }\n",
    "    }\n",
    "    return model_params_dict[model]"
   ]
  },
  {
   "cell_type": "code",
   "execution_count": 11,
   "metadata": {},
   "outputs": [],
   "source": [
    "\n",
    "\n",
    "def get_completion(prompt, model='v4.0', temperature=0.1):\n",
    "   '''\n",
    "   获取星火大模型的调用结果\n",
    "\n",
    "   请求参数：\n",
    "        prompt：对应提示词\n",
    "        model：调用的模型，默认为v4.0，也可以根据实际需求选择合适的模型\n",
    "        temperature：模型输出的温湿度系数，\n",
    "   ''' \n",
    "   spark = ChatSparkLLM(\n",
    "        spark_api_url=gen_spark_params(model)[\"spark_url\"],\n",
    "        spark_app_id=os.environ[\"SPARK_APPID\"],\n",
    "        spark_api_key=os.environ[\"SPARK_API_KEY\"],\n",
    "        spark_api_secret=os.environ[\"SPARK_API_SECRET\"],\n",
    "        spark_llm_domain=gen_spark_params(model)[\"domain\"],\n",
    "        streaming=False,\n",
    "    )\n",
    "   messages = [ChatMessage(\n",
    "        role=\"user\",\n",
    "        content=prompt\n",
    "    )]\n",
    "   handler = ChunkPrintHandler()\n",
    "   response = spark.generate([messages], callbacks=[handler])\n",
    "   return response"
   ]
  },
  {
   "cell_type": "code",
   "execution_count": 12,
   "metadata": {},
   "outputs": [
    {
     "data": {
      "text/plain": [
       "LLMResult(generations=[[ChatGeneration(text='您好！有什么我可以帮助您的吗？', message=AIMessage(content='您好！有什么我可以帮助您的吗？'))]], llm_output={'token_usage': {'question_tokens': 1, 'prompt_tokens': 1, 'completion_tokens': 8, 'total_tokens': 9}}, run=[RunInfo(run_id=UUID('f94e6b25-577b-44fd-a183-b364f46d2975'))])"
      ]
     },
     "execution_count": 12,
     "metadata": {},
     "output_type": "execute_result"
    }
   ],
   "source": [
    "get_completion(\"你好\")"
   ]
  },
  {
   "cell_type": "code",
   "execution_count": 59,
   "metadata": {},
   "outputs": [],
   "source": [
    "# "
   ]
  },
  {
   "cell_type": "code",
   "execution_count": null,
   "metadata": {},
   "outputs": [],
   "source": [
    "# import _thread as thread\n",
    "# import os\n",
    "# import time\n"
   ]
  },
  {
   "cell_type": "code",
   "execution_count": null,
   "metadata": {},
   "outputs": [],
   "source": [
    "# import base64\n",
    "\n",
    "# import base64\n"
   ]
  },
  {
   "cell_type": "code",
   "execution_count": null,
   "metadata": {},
   "outputs": [],
   "source": [
    "# import datetime\n",
    "# import hashlib\n",
    "# import hmac\n",
    "# import json\n",
    "# from urllib.parse import urlparse\n",
    "# import ssl\n",
    "# from datetime import datetime\n",
    "# from time import mktime\n",
    "# from urllib.parse import urlencode\n",
    "# from wsgiref.handlers import format_date_time\n"
   ]
  },
  {
   "cell_type": "code",
   "execution_count": null,
   "metadata": {},
   "outputs": [],
   "source": []
  },
  {
   "cell_type": "code",
   "execution_count": null,
   "metadata": {},
   "outputs": [],
   "source": [
    "\n",
    "# import websocket\n",
    "# from concurrent.futures import ThreadPoolExecutor, as_completed\n",
    "\n",
    "# class Ws_Param(object):\n",
    "#     # 初始化\n",
    "#     def __init__(self, APPID, APIKey, APISecret, gpt_url):\n",
    "#         self.APPID = APPID\n",
    "#         self.APIKey = APIKey\n",
    "#         self.APISecret = APISecret\n",
    "#         self.host = urlparse(gpt_url).netloc\n",
    "#         self.path = urlparse(gpt_url).path\n",
    "#         self.gpt_url = gpt_url\n",
    "\n",
    "#     # 生成url\n",
    "#     def create_url(self):\n",
    "#         # 生成RFC1123格式的时间戳\n",
    "#         now = datetime.now()\n",
    "#         date = format_date_time(mktime(now.timetuple()))\n",
    "\n",
    "#         # 拼接字符串\n",
    "#         signature_origin = \"host: \" + self.host + \"\\n\"\n",
    "#         signature_origin += \"date: \" + date + \"\\n\"\n",
    "#         signature_origin += \"GET \" + self.path + \" HTTP/1.1\"\n",
    "\n",
    "#         # 进行hmac-sha256进行加密\n",
    "#         signature_sha = hmac.new(self.APISecret.encode('utf-8'), signature_origin.encode('utf-8'),\n",
    "#                                  digestmod=hashlib.sha256).digest()\n",
    "\n",
    "#         signature_sha_base64 = base64.b64encode(signature_sha).decode(encoding='utf-8')\n",
    "\n",
    "#         authorization_origin = f'api_key=\"{self.APIKey}\", algorithm=\"hmac-sha256\", headers=\"host date request-line\", signature=\"{signature_sha_base64}\"'\n",
    "\n",
    "#         authorization = base64.b64encode(authorization_origin.encode('utf-8')).decode(encoding='utf-8')\n",
    "\n",
    "#         # 将请求的鉴权参数组合为字典\n",
    "#         v = {\n",
    "#             \"authorization\": authorization,\n",
    "#             \"date\": date,\n",
    "#             \"host\": self.host\n",
    "#         }\n",
    "#         # 拼接鉴权参数，生成url\n",
    "#         url = self.gpt_url + '?' + urlencode(v)\n",
    "#         # 此处打印出建立连接时候的url,参考本demo的时候可取消上方打印的注释，比对相同参数时生成的url与自己代码生成的url是否一致\n",
    "#         return url\n",
    "\n",
    "\n",
    "# # 收到websocket错误的处理\n",
    "# def on_error(ws, error):\n",
    "#     print(\"### error:\", error)\n",
    "\n",
    "\n",
    "# # 收到websocket关闭的处理\n",
    "# def on_close(ws):\n",
    "#     print(\"### closed ###\")\n",
    "\n",
    "\n",
    "# # 收到websocket连接建立的处理\n",
    "# def on_open(ws):\n",
    "#     thread.start_new_thread(run, (ws,))\n",
    "\n",
    "\n",
    "# def run(ws, *args):\n",
    "#     data = json.dumps(gen_params(appid=ws.appid, query=ws.query, domain=ws.domain))\n",
    "#     ws.send(data)\n",
    "\n",
    "\n",
    "# # 收到websocket消息的处理\n",
    "# def on_message(ws, message):\n",
    "#     # print(message)\n",
    "#     data = json.loads(message)\n",
    "#     code = data['header']['code']\n",
    "#     if code != 0:\n",
    "#         print(f'请求错误: {code}, {data}')\n",
    "#         ws.close()\n",
    "#     else:\n",
    "#         choices = data[\"payload\"][\"choices\"]\n",
    "#         status = choices[\"status\"]\n",
    "#         content = choices[\"text\"][0][\"content\"]\n",
    "#         print(content,end='')\n",
    "#         if status == 2:\n",
    "#             print(\"#### 关闭会话\")\n",
    "#             ws.close()\n",
    "\n",
    "\n",
    "# def gen_params(appid, query, domain):\n",
    "#     \"\"\"\n",
    "#     通过appid和用户的提问来生成请参数\n",
    "#     \"\"\"\n",
    "\n",
    "#     data = {\n",
    "#         \"header\": {\n",
    "#             \"app_id\": appid,\n",
    "#             \"uid\": \"1234\",           \n",
    "#             # \"patch_id\": []    #接入微调模型，对应服务发布后的resourceid          \n",
    "#         },\n",
    "#         \"parameter\": {\n",
    "#             \"chat\": {\n",
    "#                 \"domain\": domain,\n",
    "#                 \"temperature\": 0.5,\n",
    "#                 \"max_tokens\": 4096,\n",
    "#                 \"auditing\": \"default\",\n",
    "#             }\n",
    "#         },\n",
    "#         \"payload\": {\n",
    "#             \"message\": {\n",
    "#                 \"text\": [{\"role\": \"user\", \"content\": query}]\n",
    "#             }\n",
    "#         }\n",
    "#     }\n",
    "#     return data\n",
    "\n",
    "# def main(appid, api_secret, api_key, Spark_url, domain, query):\n",
    "#     wsParam = Ws_Param(appid, api_key, api_secret, Spark_url)\n",
    "#     websocket.enableTrace(False)\n",
    "#     wsUrl = wsParam.create_url()\n",
    "\n",
    "#     ws = websocket.WebSocketApp(wsUrl, on_message=on_message, on_error=on_error, on_close=on_close, on_open=on_open)\n",
    "#     ws.appid = appid\n",
    "#     ws.query = query\n",
    "#     ws.domain = domain\n",
    "#     ws.run_forever(sslopt={\"cert_reqs\": ssl.CERT_NONE})"
   ]
  },
  {
   "cell_type": "code",
   "execution_count": 69,
   "metadata": {},
   "outputs": [
    {
     "name": "stdout",
     "output_type": "stream",
     "text": [
      "您好！您没有提供具体的作文主题，所以我将随机选择一个常见的话题来撰写这篇100字的作文。\n",
      "标题：春日漫步\n",
      "\n",
      "春风轻拂，万物复苏，我踏上了春日的漫步之旅。阳光透过嫩绿的叶缝，洒在蜿蜒的小径上，每一步都踏着温暖的光斑。花香袭人，蝴蝶翩翩起舞，小鸟在枝头欢唱，一切都显得那么生机勃勃。我深吸一口清新的空气，感受着春天的气息，心中的烦恼似乎也随之消散。这一刻，我与大自然融为一体，心灵得到了前所未有的宁静和满足。\n",
      "\n",
      "希望您喜欢这篇简短的作文！如果您有其他特定的主题或要求，请随时告诉我。#### 关闭会话\n",
      "### error: on_close() takes 1 positional argument but 3 were given\n"
     ]
    }
   ],
   "source": [
    "# main(\n",
    "#         appid=os.environ[\"SPARK_APPID\"],\n",
    "#         api_secret='OThjNzVjZjJmZTQ1ZjY1ZGI1ODE3MzFk',\n",
    "#         api_key=os.environ[\"SPARK_API_KEY\"],\n",
    "#         #appid、api_secret、api_key三个服务认证信息请前往开放平台控制台查看（https://console.xfyun.cn/services/bm35）\n",
    "#         #Spark_url=\"wss://spark-api.xf-yun.com/v4.0/chat\",      # Max环境的地址   \n",
    "# \t\tSpark_url = \"wss://spark-api.xf-yun.com/v4.0/chat\", # 4.0Ultra环境的地址\n",
    "#         # Spark_url = \"wss://spark-api.xf-yun.com/v3.1/chat\"  # Pro环境的地址\n",
    "#         # Spark_url = \"wss://spark-api.xf-yun.com/v1.1/chat\"  # Lite环境的地址\n",
    "#         domain=\"4.0Ultra\",     # Max版本\n",
    "# \t\t# domain = \"4.0Ultra\"     # 4.0Ultra 版本\n",
    "#         # domain = \"generalv3\"    # Pro版本\n",
    "#         # domain = \"lite\"      # Lite版本址\n",
    "#         query=\"给我写一篇100字的作文\"\n",
    "#     )"
   ]
  },
  {
   "cell_type": "code",
   "execution_count": 74,
   "metadata": {},
   "outputs": [
    {
     "name": "stdout",
     "output_type": "stream",
     "text": [
      "OThjNzVjZjJmZTQ1ZjY1ZGI1ODE3MzF\n"
     ]
    }
   ],
   "source": [
    "print(os.environ[\"SPARK_API_SECRET\"])"
   ]
  }
 ],
 "metadata": {
  "kernelspec": {
   "display_name": "base",
   "language": "python",
   "name": "python3"
  },
  "language_info": {
   "codemirror_mode": {
    "name": "ipython",
    "version": 3
   },
   "file_extension": ".py",
   "mimetype": "text/x-python",
   "name": "python",
   "nbconvert_exporter": "python",
   "pygments_lexer": "ipython3",
   "version": "3.12.2"
  }
 },
 "nbformat": 4,
 "nbformat_minor": 2
}
