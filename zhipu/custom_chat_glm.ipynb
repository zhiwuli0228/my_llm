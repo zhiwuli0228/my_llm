{
 "cells": [
  {
   "cell_type": "code",
   "execution_count": 28,
   "metadata": {},
   "outputs": [],
   "source": [
    "import importlib\n",
    "import zhipuai_llm\n",
    "importlib.reload(zhipuai_llm)\n",
    "\n",
    "from zhipuai_llm import ZhipuAILLM"
   ]
  },
  {
   "cell_type": "code",
   "execution_count": 29,
   "metadata": {},
   "outputs": [],
   "source": [
    "from dotenv import find_dotenv, load_dotenv\n",
    "_ = load_dotenv(find_dotenv())\n",
    "import os\n",
    "api_key = os.environ['ZHIPUAI_API_KEY']"
   ]
  },
  {
   "cell_type": "code",
   "execution_count": 30,
   "metadata": {},
   "outputs": [],
   "source": [
    "zhipuai_model = ZhipuAILLM(model='glm-4-plus', temperature=0.1, api_key= api_key)"
   ]
  },
  {
   "cell_type": "code",
   "execution_count": 31,
   "metadata": {},
   "outputs": [
    {
     "data": {
      "text/plain": [
       "'您好，我是智谱清言，是智谱 AI 公司于 2024 年训练的语言模型。我的目标是帮助用户解决他们的问题，例如回答问题、提供信息和执行任务。由于我是一个计算机程序，所以我没有自我意识，也不能像人类一样感知世界。我只能通过分析我所学到的信息来回答问题。'"
      ]
     },
     "execution_count": 31,
     "metadata": {},
     "output_type": "execute_result"
    }
   ],
   "source": [
    "zhipuai_model(\"您好，介绍一下你自己\")"
   ]
  },
  {
   "cell_type": "code",
   "execution_count": 32,
   "metadata": {},
   "outputs": [
    {
     "data": {
      "text/plain": [
       "'Python 的继承是面向对象编程（OOP）中的一个核心概念，它允许一个类（称为子类或派生类）继承另一个类（称为父类或基类）的属性和方法。通过继承，子类可以重用父类的代码，并且还可以添加新的属性和方法，或者重写父类中的方法以实现特定的行为。\\n\\n### 继承的基本语法\\n\\n在 Python 中，继承的基本语法如下：\\n\\n```python\\nclass ParentClass:\\n    # 父类的属性和方法\\n    def __init__(self):\\n        pass\\n\\n    def some_method(self):\\n        print(\"This is a method in the parent class.\")\\n\\nclass ChildClass(ParentClass):\\n    # 子类的属性和方法\\n    def __init__(self):\\n        super().__init__()  # 调用父类的构造方法\\n\\n    def another_method(self):\\n        print(\"This is a method in the child class.\")\\n```\\n\\n### 继承的特点\\n\\n1. **代码重用**：子类可以继承父类的属性和方法，避免重复编写相同的代码。\\n2. **扩展功能**：子类可以在继承的基础上添加新的属性和方法，扩展父类的功能。\\n3. **方法重写**：子类可以重写父类的方法，以实现特定的行为。\\n4. **多继承**：Python 支持多继承，即一个子类可以继承多个父类。\\n\\n### 继承的示例\\n\\n以下是一个简单的继承示例：\\n\\n```python\\nclass Animal:\\n    def __init__(self, name):\\n        self.name = name\\n\\n    def speak(self):\\n        raise NotImplementedError(\"Subclasses must implement this method\")\\n\\nclass Dog(Animal):\\n    def speak(self):\\n        return f\"{self.name} says Woof!\"\\n\\nclass Cat(Animal):\\n    def speak(self):\\n        return f\"{self.name} says Meow!\"\\n\\n# 创建实例\\ndog = Dog(\"Buddy\")\\ncat = Cat(\"Kitty\")\\n\\n# 调用方法\\nprint(dog.speak())  # 输出: Buddy says Woof!\\nprint(cat.speak())  # 输出: Kitty says Meow!\\n```\\n\\n在这个示例中，`Animal` 是一个基类，定义了一个 `speak` 方法，但这个方法在基类中是未实现的（通过抛出 `NotImplementedError`）。`Dog` 和 `Cat` 是 `Animal` 的子类，它们分别重写了 `speak` 方法以实现特定的行为。\\n\\n### `super()` 函数\\n\\n在子类中，可以使用 `super()` 函数来调用父类的方法。这在构造方法中特别有用，以确保父类的初始化代码被执行：\\n\\n```python\\nclass ParentClass:\\n    def __init__(self, value):\\n        self.value = value\\n\\nclass ChildClass(ParentClass):\\n    def __init__(self, value, another_value):\\n        super().__init__(value)  # 调用父类的构造方法\\n        self.another_value = another_value\\n```\\n\\n### 多继承\\n\\nPython 支持多继承，即一个子类可以继承多个父类。多继承的语法如下：\\n\\n```python\\nclass Base1:\\n    pass\\n\\nclass Base2:\\n    pass\\n\\nclass MultiDerived(Base1, Base2):\\n    pass\\n```\\n\\n多继承需要注意方法解析顺序（MRO），Python 使用 C3 线性化算法来确定方法调用的顺序。\\n\\n### 总结\\n\\n继承是 Python 面向对象编程中的一个强大工具，它有助于代码的模块化和重用，使得程序结构更加清晰和易于维护。通过继承，可以构建具有层次结构的类体系，实现复杂的逻辑和功能。'"
      ]
     },
     "execution_count": 32,
     "metadata": {},
     "output_type": "execute_result"
    }
   ],
   "source": [
    "zhipuai_model('什么是python的继承？')"
   ]
  },
  {
   "cell_type": "code",
   "execution_count": null,
   "metadata": {},
   "outputs": [],
   "source": []
  }
 ],
 "metadata": {
  "kernelspec": {
   "display_name": "base",
   "language": "python",
   "name": "python3"
  },
  "language_info": {
   "codemirror_mode": {
    "name": "ipython",
    "version": 3
   },
   "file_extension": ".py",
   "mimetype": "text/x-python",
   "name": "python",
   "nbconvert_exporter": "python",
   "pygments_lexer": "ipython3",
   "version": "3.12.7"
  }
 },
 "nbformat": 4,
 "nbformat_minor": 2
}
